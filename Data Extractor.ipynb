{
 "cells": [
  {
   "cell_type": "code",
   "execution_count": 357,
   "metadata": {},
   "outputs": [],
   "source": [
    "import numpy as np\n",
    "import pandas as pd\n",
    "import os\n",
    "a=os.listdir('C:/Users/Utsav Dutta/Desktop/ITC/CSV/')\n",
    "df={}\n",
    "DF={}\n",
    "Curucumin={}\n",
    "for x in range(len(a)):\n",
    "    b=os.listdir('C:/Users/Utsav Dutta/Desktop/ITC/CSV/'+str(a[x]))\n",
    "    df[x]=pd.read_csv('C:/Users/Utsav Dutta/Desktop/ITC/CSV/'+str(a[x])+'/'+str(b[0]))\n",
    "    for y in b[1:]:\n",
    "            df[x]=pd.merge(df[x],pd.read_csv('C:/Users/Utsav Dutta/Desktop/ITC/CSV/'+str(a[x])+'/'+str(y)),on='Wavelength\\\\',how='outer')\n",
    "    df[x]=df[x].rename(columns = lambda x : str(x)[:-1])"
   ]
  },
  {
   "cell_type": "code",
   "execution_count": 264,
   "metadata": {
    "scrolled": true
   },
   "outputs": [],
   "source": [
    "for i in range(len(a)):\n",
    "    try:\n",
    "        DF[i]=pd.DataFrame()\n",
    "        DF[i]['Wavelength']=df[i]['Wavelength']\n",
    "        DF[i]['Intensity']=pd.concat([df[i]['Intensity\\_'],df[i]['Intensity']],axis=1).mean(axis=1).round(2)\n",
    "        DF[i]['Reflectance']=pd.concat([df[i]['Reflectance\\_'],df[i]['Reflectance']],axis=1).mean(axis=1)\n",
    "        DF[i]['Absorbance']=pd.concat([df[i]['Absorbance'],df[i]['Absorbance_']],axis=1).mean(axis=1)\n",
    "        DF[i]['Curucumin']=df[i]['Curucumi'][0]\n",
    "    except:\n",
    "        pass"
   ]
  },
  {
   "cell_type": "code",
   "execution_count": 275,
   "metadata": {},
   "outputs": [],
   "source": [
    "indexes=[]\n",
    "for x in DF.keys():\n",
    "    if len(DF[x].columns)<5:\n",
    "        indexes.append(x)"
   ]
  },
  {
   "cell_type": "code",
   "execution_count": 279,
   "metadata": {
    "scrolled": true
   },
   "outputs": [],
   "source": [
    "for x in indexes:\n",
    "    DF.pop(x,None)"
   ]
  },
  {
   "cell_type": "code",
   "execution_count": 332,
   "metadata": {},
   "outputs": [],
   "source": [
    "#Split into 3 dataframes for each of the 3 devices. 'a' and 'r' represent absorbance and reflectance spectra\n",
    "def combine_spectra_byvariable(a,var):\n",
    "    b=pd.DataFrame()\n",
    "    for x in a.keys():\n",
    "        b=pd.concat([b,pd.DataFrame(data=[list(a[x][var])],columns=a[0]['Wavelength'])],ignore_index=True)\n",
    "        #b.columns=a[0]['Wavelength']\n",
    "        b.loc[x,'target']=a[x]['Curucumin'][0]\n",
    "    \n",
    "    return b"
   ]
  },
  {
   "cell_type": "code",
   "execution_count": 350,
   "metadata": {},
   "outputs": [],
   "source": [
    "DF_=combine_spectra_byvariable(DF,'Intensity')\n",
    "DF_=DF_.sort_values(['target'],ascending=True).reset_index(drop=True)\n",
    "DF_=DF_.dropna(axis='rows').reset_index(drop=True)"
   ]
  },
  {
   "cell_type": "code",
   "execution_count": 351,
   "metadata": {},
   "outputs": [],
   "source": [
    "DF_a=combine_spectra_byvariable(DF,'Absorbance')\n",
    "DF_a=DF_a.sort_values(['target'],ascending=True).reset_index(drop=True)\n",
    "DF_a=DF_a.dropna(axis='rows').reset_index(drop=True)"
   ]
  },
  {
   "cell_type": "code",
   "execution_count": 352,
   "metadata": {},
   "outputs": [],
   "source": [
    "DF_r=combine_spectra_byvariable(DF,'Reflectance')\n",
    "DF_r=DF_r.sort_values(['target'],ascending=True).reset_index(drop=True)\n",
    "DF_r=DF_r.dropna(axis='rows').reset_index(drop=True)"
   ]
  },
  {
   "cell_type": "code",
   "execution_count": 355,
   "metadata": {},
   "outputs": [],
   "source": [
    "DF_.to_csv('Intensity.csv',index=None)\n",
    "DF_a.to_csv('Reflectance.csv',index=None)\n",
    "DF_r.to_csv('Absorbance.csv',index=None)"
   ]
  }
 ],
 "metadata": {
  "kernelspec": {
   "display_name": "Python 3",
   "language": "python",
   "name": "python3"
  },
  "language_info": {
   "codemirror_mode": {
    "name": "ipython",
    "version": 3
   },
   "file_extension": ".py",
   "mimetype": "text/x-python",
   "name": "python",
   "nbconvert_exporter": "python",
   "pygments_lexer": "ipython3",
   "version": "3.7.3"
  }
 },
 "nbformat": 4,
 "nbformat_minor": 2
}
